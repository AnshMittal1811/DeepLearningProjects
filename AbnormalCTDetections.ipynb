{
  "nbformat": 4,
  "nbformat_minor": 0,
  "metadata": {
    "colab": {
      "name": "AbnormalCTDetections.ipynb",
      "provenance": []
    },
    "kernelspec": {
      "name": "python3",
      "display_name": "Python 3"
    },
    "language_info": {
      "name": "python"
    },
    "accelerator": "GPU"
  },
  "cells": [
    {
      "cell_type": "code",
      "metadata": {
        "id": "y0BkSEnd7oG2"
      },
      "source": [
        "import os\n",
        "import zipfile\n",
        "import numpy as np\n",
        "import tensorflow as tf\n",
        "\n",
        "from tensorflow import keras\n",
        "from tensorflow.keras import layers\n",
        "import nibabel as nib\n",
        "from scipy import ndimage"
      ],
      "execution_count": 1,
      "outputs": []
    },
    {
      "cell_type": "code",
      "metadata": {
        "id": "krnauvW9_IoB"
      },
      "source": [
        "os.chdir(\"/content/drive/MyDrive/Abnormal CT Detection\")"
      ],
      "execution_count": 2,
      "outputs": []
    },
    {
      "cell_type": "code",
      "metadata": {
        "colab": {
          "base_uri": "https://localhost:8080/"
        },
        "id": "bvBojhKw_PQE",
        "outputId": "4887391a-85ae-4f42-a4ed-b7f0d5a6affe"
      },
      "source": [
        "os.listdir()"
      ],
      "execution_count": 12,
      "outputs": [
        {
          "output_type": "execute_result",
          "data": {
            "text/plain": [
              "['CT-0.zip', 'CT-23.zip', '.ipynb_checkpoints', 'Model']"
            ]
          },
          "metadata": {},
          "execution_count": 12
        }
      ]
    },
    {
      "cell_type": "code",
      "metadata": {
        "id": "aJkkfWs8_Rai"
      },
      "source": [
        "# url = \"https://github.com/hasibzunair/3D-image-classification-tutorial/releases/download/v0.2/CT-0.zip\"\n",
        "# filename = os.path.join(os.getcwd(), \"CT-0.zip\")\n",
        "# keras.utils.get_file(filename, url)\n",
        "\n",
        "# url = \"https://github.com/hasibzunair/3D-image-classification-tutorial/releases/download/v0.2/CT-23.zip\"\n",
        "# filename = os.path.join(os.getcwd(), \"CT-23.zip\")\n",
        "# keras.utils.get_file(filename, url)\n",
        "\n",
        "os.makedirs(\"Data\")"
      ],
      "execution_count": 13,
      "outputs": []
    },
    {
      "cell_type": "code",
      "metadata": {
        "colab": {
          "base_uri": "https://localhost:8080/"
        },
        "id": "LKP7OlCF_0KP",
        "outputId": "4a1e15ed-9fb4-4559-d13b-0f4e14929c4a"
      },
      "source": [
        "os.listdir()"
      ],
      "execution_count": 14,
      "outputs": [
        {
          "output_type": "execute_result",
          "data": {
            "text/plain": [
              "['CT-0.zip', 'CT-23.zip', '.ipynb_checkpoints', 'Model', 'Data']"
            ]
          },
          "metadata": {},
          "execution_count": 14
        }
      ]
    },
    {
      "cell_type": "code",
      "metadata": {
        "id": "STYfbYgA_2Oi"
      },
      "source": [
        "with zipfile.ZipFile(\"CT-0.zip\", \"r\") as z_fp:\n",
        "    z_fp.extractall(\"./Data/\")\n",
        "\n",
        "with zipfile.ZipFile(\"CT-23.zip\", \"r\") as z_fp:\n",
        "    z_fp.extractall(\"./Data/\")"
      ],
      "execution_count": 15,
      "outputs": []
    },
    {
      "cell_type": "code",
      "metadata": {
        "id": "J5AA4ELW_5oN"
      },
      "source": [
        "def read_nifti_file(filepath):\n",
        "    \"\"\"Read and load volume\"\"\"\n",
        "    # Read file\n",
        "    scan = nib.load(filepath)\n",
        "    # Get raw data\n",
        "    scan = scan.get_fdata()\n",
        "    return scan\n",
        "\n",
        "\n",
        "def normalize(volume):\n",
        "    \"\"\"Normalize the volume\"\"\"\n",
        "    min = -1000\n",
        "    max = 400\n",
        "    volume[volume < min] = min\n",
        "    volume[volume > max] = max\n",
        "    volume = (volume - min) / (max - min)\n",
        "    volume = volume.astype(\"float32\")\n",
        "    return volume\n",
        "\n",
        "\n",
        "def resize_volume(img):\n",
        "    \"\"\"Resize across z-axis\"\"\"\n",
        "    # Set the desired depth\n",
        "    desired_depth = 64\n",
        "    desired_width = 128\n",
        "    desired_height = 128\n",
        "    # Get current depth\n",
        "    current_depth = img.shape[-1]\n",
        "    current_width = img.shape[0]\n",
        "    current_height = img.shape[1]\n",
        "    # Compute depth factor\n",
        "    depth = current_depth / desired_depth\n",
        "    width = current_width / desired_width\n",
        "    height = current_height / desired_height\n",
        "    depth_factor = 1 / depth\n",
        "    width_factor = 1 / width\n",
        "    height_factor = 1 / height\n",
        "    # Rotate\n",
        "    img = ndimage.rotate(img, 90, reshape=False)\n",
        "    # Resize across z-axis\n",
        "    img = ndimage.zoom(img, (width_factor, height_factor, depth_factor), order=1)\n",
        "    return img\n",
        "\n",
        "\n",
        "def process_scan(path):\n",
        "    \"\"\"Read and resize volume\"\"\"\n",
        "    # Read scan\n",
        "    volume = read_nifti_file(path)\n",
        "    # Normalize\n",
        "    volume = normalize(volume)\n",
        "    # Resize width, height and depth\n",
        "    volume = resize_volume(volume)\n",
        "    return volume"
      ],
      "execution_count": 16,
      "outputs": []
    },
    {
      "cell_type": "code",
      "metadata": {
        "colab": {
          "base_uri": "https://localhost:8080/"
        },
        "id": "YcBp28WbAGnj",
        "outputId": "d559e201-b2d2-4924-ea8f-da434592aa51"
      },
      "source": [
        "normal_scan_paths = [\n",
        "    os.path.join(os.getcwd(), \"Data/CT-0\", x)\n",
        "    for x in os.listdir(\"Data/CT-0\")\n",
        "]\n",
        "# Folder \"CT-23\" consist of CT scans having several ground-glass opacifications,\n",
        "# involvement of lung parenchyma.\n",
        "abnormal_scan_paths = [\n",
        "    os.path.join(os.getcwd(), \"Data/CT-23\", x)\n",
        "    for x in os.listdir(\"Data/CT-23\")\n",
        "]\n",
        "\n",
        "print(\"CT scans with normal lung tissue: \" + str(len(normal_scan_paths)))\n",
        "print(\"CT scans with abnormal lung tissue: \" + str(len(abnormal_scan_paths)))"
      ],
      "execution_count": 17,
      "outputs": [
        {
          "output_type": "stream",
          "name": "stdout",
          "text": [
            "CT scans with normal lung tissue: 100\n",
            "CT scans with abnormal lung tissue: 100\n"
          ]
        }
      ]
    },
    {
      "cell_type": "code",
      "metadata": {
        "colab": {
          "base_uri": "https://localhost:8080/"
        },
        "id": "coH2Uf9pAJfb",
        "outputId": "e72f41aa-23fd-4945-b5ca-0893d793bc6d"
      },
      "source": [
        "# Each scan is resized across height, width, and depth and rescaled.\n",
        "abnormal_scans = np.array([process_scan(path) for path in abnormal_scan_paths])\n",
        "normal_scans = np.array([process_scan(path) for path in normal_scan_paths])\n",
        "\n",
        "# For the CT scans having presence of viral pneumonia\n",
        "# assign 1, for the normal ones assign 0.\n",
        "abnormal_labels = np.array([1 for _ in range(len(abnormal_scans))])\n",
        "normal_labels = np.array([0 for _ in range(len(normal_scans))])\n",
        "\n",
        "# Split data in the ratio 70-30 for training and validation.\n",
        "x_train = np.concatenate((abnormal_scans[:70], normal_scans[:70]), axis=0)\n",
        "y_train = np.concatenate((abnormal_labels[:70], normal_labels[:70]), axis=0)\n",
        "x_val = np.concatenate((abnormal_scans[70:], normal_scans[70:]), axis=0)\n",
        "y_val = np.concatenate((abnormal_labels[70:], normal_labels[70:]), axis=0)\n",
        "print(\n",
        "    \"Number of samples in train and validation are %d and %d.\"\n",
        "    % (x_train.shape[0], x_val.shape[0])\n",
        ")\n"
      ],
      "execution_count": 18,
      "outputs": [
        {
          "output_type": "stream",
          "name": "stdout",
          "text": [
            "Number of samples in train and validation are 140 and 60.\n"
          ]
        }
      ]
    },
    {
      "cell_type": "code",
      "metadata": {
        "id": "riChupmKAPFi"
      },
      "source": [
        "import random\n",
        "\n",
        "from scipy import ndimage\n",
        "\n",
        "\n",
        "@tf.function\n",
        "def rotate(volume):\n",
        "    \"\"\"Rotate the volume by a few degrees\"\"\"\n",
        "\n",
        "    def scipy_rotate(volume):\n",
        "        # define some rotation angles\n",
        "        angles = [-20, -10, -5, 5, 10, 20]\n",
        "        # pick angles at random\n",
        "        angle = random.choice(angles)\n",
        "        # rotate volume\n",
        "        volume = ndimage.rotate(volume, angle, reshape=False)\n",
        "        volume[volume < 0] = 0\n",
        "        volume[volume > 1] = 1\n",
        "        return volume\n",
        "\n",
        "    augmented_volume = tf.numpy_function(scipy_rotate, [volume], tf.float32)\n",
        "    return augmented_volume\n",
        "\n",
        "\n",
        "def train_preprocessing(volume, label):\n",
        "    \"\"\"Process training data by rotating and adding a channel.\"\"\"\n",
        "    # Rotate volume\n",
        "    volume = rotate(volume)\n",
        "    volume = tf.expand_dims(volume, axis=3)\n",
        "    return volume, label\n",
        "\n",
        "\n",
        "def validation_preprocessing(volume, label):\n",
        "    \"\"\"Process validation data by only adding a channel.\"\"\"\n",
        "    volume = tf.expand_dims(volume, axis=3)\n",
        "    return volume, label\n"
      ],
      "execution_count": 19,
      "outputs": []
    },
    {
      "cell_type": "code",
      "metadata": {
        "id": "s8Hr_6k2ARRA"
      },
      "source": [
        "# Define data loaders.\n",
        "train_loader = tf.data.Dataset.from_tensor_slices((x_train, y_train))\n",
        "validation_loader = tf.data.Dataset.from_tensor_slices((x_val, y_val))\n",
        "\n",
        "batch_size = 2\n",
        "# Augment the on the fly during training.\n",
        "train_dataset = (\n",
        "    train_loader.shuffle(len(x_train))\n",
        "    .map(train_preprocessing)\n",
        "    .batch(batch_size)\n",
        "    .prefetch(2)\n",
        ")\n",
        "# Only rescale.\n",
        "validation_dataset = (\n",
        "    validation_loader.shuffle(len(x_val))\n",
        "    .map(validation_preprocessing)\n",
        "    .batch(batch_size)\n",
        "    .prefetch(2)\n",
        ")"
      ],
      "execution_count": 20,
      "outputs": []
    },
    {
      "cell_type": "code",
      "metadata": {
        "colab": {
          "base_uri": "https://localhost:8080/",
          "height": 303
        },
        "id": "2g7m9oDsATFr",
        "outputId": "7ab1aa7c-78ee-41ab-a969-f00ed7073259"
      },
      "source": [
        "import matplotlib.pyplot as plt\n",
        "\n",
        "data = train_dataset.take(1)\n",
        "images, labels = list(data)[0]\n",
        "images = images.numpy()\n",
        "image = images[0]\n",
        "print(\"Dimension of the CT scan is:\", image.shape)\n",
        "plt.imshow(np.squeeze(image[:, :, 30]), cmap=\"gray\")\n"
      ],
      "execution_count": 21,
      "outputs": [
        {
          "output_type": "stream",
          "name": "stdout",
          "text": [
            "Dimension of the CT scan is: (128, 128, 64, 1)\n"
          ]
        },
        {
          "output_type": "execute_result",
          "data": {
            "text/plain": [
              "<matplotlib.image.AxesImage at 0x7f9800792d50>"
            ]
          },
          "metadata": {},
          "execution_count": 21
        },
        {
          "output_type": "display_data",
          "data": {
            "image/png": "[encoded data removed]",
            "text/plain": [
              "<Figure size 432x288 with 1 Axes>"
            ]
          },
          "metadata": {
            "needs_background": "light"
          }
        }
      ]
    },
    {
      "cell_type": "code",
      "metadata": {
        "id": "pisE1qQLAU89"
      },
      "source": [
        "def plot_slices(num_rows, num_columns, width, height, data):\n",
        "    \"\"\"Plot a montage of 20 CT slices\"\"\"\n",
        "    data = np.rot90(np.array(data))\n",
        "    data = np.transpose(data)\n",
        "    data = np.reshape(data, (num_rows, num_columns, width, height))\n",
        "    rows_data, columns_data = data.shape[0], data.shape[1]\n",
        "    heights = [slc[0].shape[0] for slc in data]\n",
        "    widths = [slc.shape[1] for slc in data[0]]\n",
        "    fig_width = 12.0\n",
        "    fig_height = fig_width * sum(heights) / sum(widths)\n",
        "    f, axarr = plt.subplots(\n",
        "        rows_data,\n",
        "        columns_data,\n",
        "        figsize=(fig_width, fig_height),\n",
        "        gridspec_kw={\"height_ratios\": heights},\n",
        "    )\n",
        "    for i in range(rows_data):\n",
        "        for j in range(columns_data):\n",
        "            axarr[i, j].imshow(data[i][j], cmap=\"gray\")\n",
        "            axarr[i, j].axis(\"off\")\n",
        "    plt.subplots_adjust(wspace=0, hspace=0, left=0, right=1, bottom=0, top=1)\n",
        "    plt.show()\n"
      ],
      "execution_count": 22,
      "outputs": []
    },
    {
      "cell_type": "code",
      "metadata": {
        "colab": {
          "base_uri": "https://localhost:8080/"
        },
        "id": "Kqc2wlDLAXlz",
        "outputId": "aa4c2706-4c56-45a1-bfe9-13fe42dbec92"
      },
      "source": [
        "def get_model(width=128, height=128, depth=64):\n",
        "    \"\"\"Build a 3D convolutional neural network model.\"\"\"\n",
        "\n",
        "    inputs = keras.Input((width, height, depth, 1))\n",
        "\n",
        "    x = layers.Conv3D(filters=64, kernel_size=3, activation=\"relu\")(inputs)\n",
        "    x = layers.MaxPool3D(pool_size=2)(x)\n",
        "    x = layers.BatchNormalization()(x)\n",
        "\n",
        "    x = layers.Conv3D(filters=64, kernel_size=3, activation=\"relu\")(x)\n",
        "    x = layers.MaxPool3D(pool_size=2)(x)\n",
        "    x = layers.BatchNormalization()(x)\n",
        "\n",
        "    x = layers.Conv3D(filters=128, kernel_size=3, activation=\"relu\")(x)\n",
        "    x = layers.MaxPool3D(pool_size=2)(x)\n",
        "    x = layers.BatchNormalization()(x)\n",
        "\n",
        "    x = layers.Conv3D(filters=256, kernel_size=3, activation=\"tanh\")(x)\n",
        "    x = layers.MaxPool3D(pool_size=2)(x)\n",
        "    x = layers.BatchNormalization()(x)\n",
        "\n",
        "    x = layers.GlobalAveragePooling3D()(x)\n",
        "    x = layers.Dense(units=512, activation=\"relu\")(x)\n",
        "    x = layers.Dropout(0.3)(x)\n",
        "\n",
        "    outputs = layers.Dense(units=1, activation=\"sigmoid\")(x)\n",
        "\n",
        "    # Define the model.\n",
        "    model = keras.Model(inputs, outputs, name=\"3dcnn\")\n",
        "    return model\n",
        "\n",
        "\n",
        "# Build model.\n",
        "model = get_model(width=128, height=128, depth=64)\n",
        "model.summary()"
      ],
      "execution_count": 25,
      "outputs": [
        {
          "output_type": "stream",
          "name": "stdout",
          "text": [
            "Model: \"3dcnn\"\n",
            "_________________________________________________________________\n",
            "Layer (type)                 Output Shape              Param #   \n",
            "=================================================================\n",
            "input_2 (InputLayer)         [(None, 128, 128, 64, 1)] 0         \n",
            "_________________________________________________________________\n",
            "conv3d_4 (Conv3D)            (None, 126, 126, 62, 64)  1792      \n",
            "_________________________________________________________________\n",
            "max_pooling3d_4 (MaxPooling3 (None, 63, 63, 31, 64)    0         \n",
            "_________________________________________________________________\n",
            "batch_normalization_4 (Batch (None, 63, 63, 31, 64)    256       \n",
            "_________________________________________________________________\n",
            "conv3d_5 (Conv3D)            (None, 61, 61, 29, 64)    110656    \n",
            "_________________________________________________________________\n",
            "max_pooling3d_5 (MaxPooling3 (None, 30, 30, 14, 64)    0         \n",
            "_________________________________________________________________\n",
            "batch_normalization_5 (Batch (None, 30, 30, 14, 64)    256       \n",
            "_________________________________________________________________\n",
            "conv3d_6 (Conv3D)            (None, 28, 28, 12, 128)   221312    \n",
            "_________________________________________________________________\n",
            "max_pooling3d_6 (MaxPooling3 (None, 14, 14, 6, 128)    0         \n",
            "_________________________________________________________________\n",
            "batch_normalization_6 (Batch (None, 14, 14, 6, 128)    512       \n",
            "_________________________________________________________________\n",
            "conv3d_7 (Conv3D)            (None, 12, 12, 4, 256)    884992    \n",
            "_________________________________________________________________\n",
            "max_pooling3d_7 (MaxPooling3 (None, 6, 6, 2, 256)      0         \n",
            "_________________________________________________________________\n",
            "batch_normalization_7 (Batch (None, 6, 6, 2, 256)      1024      \n",
            "_________________________________________________________________\n",
            "global_average_pooling3d_1 ( (None, 256)               0         \n",
            "_________________________________________________________________\n",
            "dense_2 (Dense)              (None, 512)               131584    \n",
            "_________________________________________________________________\n",
            "dropout_1 (Dropout)          (None, 512)               0         \n",
            "_________________________________________________________________\n",
            "dense_3 (Dense)              (None, 1)                 513       \n",
            "=================================================================\n",
            "Total params: 1,352,897\n",
            "Trainable params: 1,351,873\n",
            "Non-trainable params: 1,024\n",
            "_________________________________________________________________\n"
          ]
        }
      ]
    },
    {
      "cell_type": "code",
      "metadata": {
        "colab": {
          "base_uri": "https://localhost:8080/"
        },
        "id": "xqSL57HTAca_",
        "outputId": "f1a2dd92-0d00-437b-f4ed-c695f6140814"
      },
      "source": [
        "# Compile model.\n",
        "initial_learning_rate = 0.0001\n",
        "lr_schedule = keras.optimizers.schedules.ExponentialDecay(\n",
        "    initial_learning_rate, decay_steps=100000, decay_rate=0.96, staircase=True\n",
        ")\n",
        "model.compile(\n",
        "    loss=\"binary_crossentropy\",\n",
        "    optimizer=keras.optimizers.Adam(learning_rate=lr_schedule),\n",
        "    metrics=[\"acc\"],\n",
        ")\n",
        "\n",
        "# Define callbacks.\n",
        "checkpoint_cb = keras.callbacks.ModelCheckpoint(\n",
        "    \"./Model/Model_1.h5\", monitor = \"val_loss\", save_best_only=True, verbose = 1\n",
        ")\n",
        "early_stopping_cb = keras.callbacks.EarlyStopping(monitor=\"val_loss\", patience=40, verbose = 1)\n",
        "\n",
        "# Train the model, doing validation at the end of each epoch\n",
        "epochs = 300\n",
        "history = model.fit(\n",
        "    train_dataset,\n",
        "    validation_data=validation_dataset,\n",
        "    epochs=epochs,\n",
        "    shuffle=True,\n",
        "    verbose=1,\n",
        "    callbacks=[checkpoint_cb, early_stopping_cb],\n",
        ")"
      ],
      "execution_count": 26,
      "outputs": [
        {
          "output_type": "stream",
          "name": "stdout",
          "text": [
            "Epoch 1/300\n",
            "70/70 [==============================] - 39s 542ms/step - loss: 0.6542 - acc: 0.5857 - val_loss: 0.8494 - val_acc: 0.5000\n",
            "\n",
            "Epoch 00001: val_loss improved from inf to 0.84935, saving model to ./Model/Model_1.h5\n",
            "Epoch 2/300\n",
            "70/70 [==============================] - 38s 536ms/step - loss: 0.6946 - acc: 0.5857 - val_loss: 0.7521 - val_acc: 0.5000\n",
            "\n",
            "Epoch 00002: val_loss improved from 0.84935 to 0.75212, saving model to ./Model/Model_1.h5\n",
            "Epoch 3/300\n",
            "70/70 [==============================] - 38s 541ms/step - loss: 0.6639 - acc: 0.6143 - val_loss: 0.9867 - val_acc: 0.5000\n",
            "\n",
            "Epoch 00003: val_loss did not improve from 0.75212\n",
            "Epoch 4/300\n",
            "70/70 [==============================] - 38s 540ms/step - loss: 0.6539 - acc: 0.6143 - val_loss: 1.4348 - val_acc: 0.5000\n",
            "\n",
            "Epoch 00004: val_loss did not improve from 0.75212\n",
            "Epoch 5/300\n",
            "70/70 [==============================] - 38s 542ms/step - loss: 0.6559 - acc: 0.5929 - val_loss: 2.6099 - val_acc: 0.5000\n",
            "\n",
            "Epoch 00005: val_loss did not improve from 0.75212\n",
            "Epoch 6/300\n",
            "70/70 [==============================] - 38s 540ms/step - loss: 0.6212 - acc: 0.6286 - val_loss: 3.4826 - val_acc: 0.5000\n",
            "\n",
            "Epoch 00006: val_loss did not improve from 0.75212\n",
            "Epoch 7/300\n",
            "70/70 [==============================] - 38s 541ms/step - loss: 0.6674 - acc: 0.5857 - val_loss: 1.0842 - val_acc: 0.5000\n",
            "\n",
            "Epoch 00007: val_loss did not improve from 0.75212\n",
            "Epoch 8/300\n",
            "70/70 [==============================] - 38s 538ms/step - loss: 0.6703 - acc: 0.5786 - val_loss: 0.9198 - val_acc: 0.5000\n",
            "\n",
            "Epoch 00008: val_loss did not improve from 0.75212\n",
            "Epoch 9/300\n",
            "70/70 [==============================] - 38s 540ms/step - loss: 0.6614 - acc: 0.5786 - val_loss: 0.5749 - val_acc: 0.7167\n",
            "\n",
            "Epoch 00009: val_loss improved from 0.75212 to 0.57487, saving model to ./Model/Model_1.h5\n",
            "Epoch 10/300\n",
            "70/70 [==============================] - 38s 541ms/step - loss: 0.6683 - acc: 0.6571 - val_loss: 0.4906 - val_acc: 0.7333\n",
            "\n",
            "Epoch 00010: val_loss improved from 0.57487 to 0.49057, saving model to ./Model/Model_1.h5\n",
            "Epoch 11/300\n",
            "70/70 [==============================] - 39s 547ms/step - loss: 0.6321 - acc: 0.6357 - val_loss: 0.5046 - val_acc: 0.7667\n",
            "\n",
            "Epoch 00011: val_loss did not improve from 0.49057\n",
            "Epoch 12/300\n",
            "70/70 [==============================] - 39s 553ms/step - loss: 0.6438 - acc: 0.5643 - val_loss: 0.5271 - val_acc: 0.8167\n",
            "\n",
            "Epoch 00012: val_loss did not improve from 0.49057\n",
            "Epoch 13/300\n",
            "70/70 [==============================] - 38s 538ms/step - loss: 0.6344 - acc: 0.6143 - val_loss: 0.4939 - val_acc: 0.7667\n",
            "\n",
            "Epoch 00013: val_loss did not improve from 0.49057\n",
            "Epoch 14/300\n",
            "70/70 [==============================] - 38s 538ms/step - loss: 0.6114 - acc: 0.6929 - val_loss: 0.6172 - val_acc: 0.6000\n",
            "\n",
            "Epoch 00014: val_loss did not improve from 0.49057\n",
            "Epoch 15/300\n",
            "70/70 [==============================] - 38s 542ms/step - loss: 0.6363 - acc: 0.6357 - val_loss: 0.9097 - val_acc: 0.5167\n",
            "\n",
            "Epoch 00015: val_loss did not improve from 0.49057\n",
            "Epoch 16/300\n",
            "70/70 [==============================] - 39s 547ms/step - loss: 0.5939 - acc: 0.7000 - val_loss: 0.5287 - val_acc: 0.7333\n",
            "\n",
            "Epoch 00016: val_loss did not improve from 0.49057\n",
            "Epoch 17/300\n",
            "70/70 [==============================] - 38s 546ms/step - loss: 0.5621 - acc: 0.7000 - val_loss: 0.7670 - val_acc: 0.5500\n",
            "\n",
            "Epoch 00017: val_loss did not improve from 0.49057\n",
            "Epoch 18/300\n",
            "70/70 [==============================] - 38s 537ms/step - loss: 0.5977 - acc: 0.6857 - val_loss: 0.5601 - val_acc: 0.6833\n",
            "\n",
            "Epoch 00018: val_loss did not improve from 0.49057\n",
            "Epoch 19/300\n",
            "70/70 [==============================] - 38s 542ms/step - loss: 0.6082 - acc: 0.6643 - val_loss: 0.5075 - val_acc: 0.7333\n",
            "\n",
            "Epoch 00019: val_loss did not improve from 0.49057\n",
            "Epoch 20/300\n",
            "70/70 [==============================] - 39s 548ms/step - loss: 0.6186 - acc: 0.6357 - val_loss: 0.4600 - val_acc: 0.7500\n",
            "\n",
            "Epoch 00020: val_loss improved from 0.49057 to 0.46001, saving model to ./Model/Model_1.h5\n",
            "Epoch 21/300\n",
            "70/70 [==============================] - 39s 547ms/step - loss: 0.5577 - acc: 0.6786 - val_loss: 0.4543 - val_acc: 0.8167\n",
            "\n",
            "Epoch 00021: val_loss improved from 0.46001 to 0.45432, saving model to ./Model/Model_1.h5\n",
            "Epoch 22/300\n",
            "70/70 [==============================] - 39s 556ms/step - loss: 0.5950 - acc: 0.6500 - val_loss: 0.6222 - val_acc: 0.6167\n",
            "\n",
            "Epoch 00022: val_loss did not improve from 0.45432\n",
            "Epoch 23/300\n",
            "70/70 [==============================] - 39s 562ms/step - loss: 0.5802 - acc: 0.6857 - val_loss: 0.6025 - val_acc: 0.7000\n",
            "\n",
            "Epoch 00023: val_loss did not improve from 0.45432\n",
            "Epoch 24/300\n",
            "70/70 [==============================] - 39s 557ms/step - loss: 0.5448 - acc: 0.6929 - val_loss: 0.6737 - val_acc: 0.6500\n",
            "\n",
            "Epoch 00024: val_loss did not improve from 0.45432\n",
            "Epoch 25/300\n",
            "70/70 [==============================] - 39s 554ms/step - loss: 0.5903 - acc: 0.6929 - val_loss: 0.5392 - val_acc: 0.7000\n",
            "\n",
            "Epoch 00025: val_loss did not improve from 0.45432\n",
            "Epoch 26/300\n",
            "70/70 [==============================] - 40s 563ms/step - loss: 0.5127 - acc: 0.7357 - val_loss: 0.4431 - val_acc: 0.8333\n",
            "\n",
            "Epoch 00026: val_loss improved from 0.45432 to 0.44307, saving model to ./Model/Model_1.h5\n",
            "Epoch 27/300\n",
            "70/70 [==============================] - 39s 561ms/step - loss: 0.5444 - acc: 0.6929 - val_loss: 1.1263 - val_acc: 0.5500\n",
            "\n",
            "Epoch 00027: val_loss did not improve from 0.44307\n",
            "Epoch 28/300\n",
            "70/70 [==============================] - 40s 565ms/step - loss: 0.5166 - acc: 0.7286 - val_loss: 1.0415 - val_acc: 0.6000\n",
            "\n",
            "Epoch 00028: val_loss did not improve from 0.44307\n",
            "Epoch 29/300\n",
            "70/70 [==============================] - 39s 551ms/step - loss: 0.5277 - acc: 0.7429 - val_loss: 1.4633 - val_acc: 0.5500\n",
            "\n",
            "Epoch 00029: val_loss did not improve from 0.44307\n",
            "Epoch 30/300\n",
            "70/70 [==============================] - 39s 559ms/step - loss: 0.4691 - acc: 0.8000 - val_loss: 0.5874 - val_acc: 0.7000\n",
            "\n",
            "Epoch 00030: val_loss did not improve from 0.44307\n",
            "Epoch 31/300\n",
            "70/70 [==============================] - 39s 557ms/step - loss: 0.4812 - acc: 0.7429 - val_loss: 0.5587 - val_acc: 0.7167\n",
            "\n",
            "Epoch 00031: val_loss did not improve from 0.44307\n",
            "Epoch 32/300\n",
            "70/70 [==============================] - 39s 552ms/step - loss: 0.5191 - acc: 0.7429 - val_loss: 0.5261 - val_acc: 0.7000\n",
            "\n",
            "Epoch 00032: val_loss did not improve from 0.44307\n",
            "Epoch 33/300\n",
            "70/70 [==============================] - 39s 557ms/step - loss: 0.4689 - acc: 0.7929 - val_loss: 0.9932 - val_acc: 0.6000\n",
            "\n",
            "Epoch 00033: val_loss did not improve from 0.44307\n",
            "Epoch 34/300\n",
            "70/70 [==============================] - 39s 553ms/step - loss: 0.5065 - acc: 0.7286 - val_loss: 0.5658 - val_acc: 0.6500\n",
            "\n",
            "Epoch 00034: val_loss did not improve from 0.44307\n",
            "Epoch 35/300\n",
            "70/70 [==============================] - 39s 560ms/step - loss: 0.4737 - acc: 0.7786 - val_loss: 0.4999 - val_acc: 0.7833\n",
            "\n",
            "Epoch 00035: val_loss did not improve from 0.44307\n",
            "Epoch 36/300\n",
            "70/70 [==============================] - 39s 560ms/step - loss: 0.4829 - acc: 0.7643 - val_loss: 0.9404 - val_acc: 0.5333\n",
            "\n",
            "Epoch 00036: val_loss did not improve from 0.44307\n",
            "Epoch 37/300\n",
            "70/70 [==============================] - 39s 555ms/step - loss: 0.4916 - acc: 0.7571 - val_loss: 0.4192 - val_acc: 0.8000\n",
            "\n",
            "Epoch 00037: val_loss improved from 0.44307 to 0.41923, saving model to ./Model/Model_1.h5\n",
            "Epoch 38/300\n",
            "70/70 [==============================] - 39s 551ms/step - loss: 0.4504 - acc: 0.7929 - val_loss: 0.7148 - val_acc: 0.6833\n",
            "\n",
            "Epoch 00038: val_loss did not improve from 0.41923\n",
            "Epoch 39/300\n",
            "70/70 [==============================] - 39s 550ms/step - loss: 0.4382 - acc: 0.8286 - val_loss: 0.3999 - val_acc: 0.7833\n",
            "\n",
            "Epoch 00039: val_loss improved from 0.41923 to 0.39988, saving model to ./Model/Model_1.h5\n",
            "Epoch 40/300\n",
            "70/70 [==============================] - 39s 553ms/step - loss: 0.4118 - acc: 0.8000 - val_loss: 0.4275 - val_acc: 0.8333\n",
            "\n",
            "Epoch 00040: val_loss did not improve from 0.39988\n",
            "Epoch 41/300\n",
            "70/70 [==============================] - 39s 557ms/step - loss: 0.3992 - acc: 0.8000 - val_loss: 0.5640 - val_acc: 0.7000\n",
            "\n",
            "Epoch 00041: val_loss did not improve from 0.39988\n",
            "Epoch 42/300\n",
            "70/70 [==============================] - 39s 555ms/step - loss: 0.3143 - acc: 0.8714 - val_loss: 0.6132 - val_acc: 0.7000\n",
            "\n",
            "Epoch 00042: val_loss did not improve from 0.39988\n",
            "Epoch 43/300\n",
            "70/70 [==============================] - 39s 554ms/step - loss: 0.3256 - acc: 0.8571 - val_loss: 0.9706 - val_acc: 0.7167\n",
            "\n",
            "Epoch 00043: val_loss did not improve from 0.39988\n",
            "Epoch 44/300\n",
            "70/70 [==============================] - 39s 553ms/step - loss: 0.4132 - acc: 0.8000 - val_loss: 1.9503 - val_acc: 0.5667\n",
            "\n",
            "Epoch 00044: val_loss did not improve from 0.39988\n",
            "Epoch 45/300\n",
            "70/70 [==============================] - 39s 552ms/step - loss: 0.3514 - acc: 0.8786 - val_loss: 0.4011 - val_acc: 0.8167\n",
            "\n",
            "Epoch 00045: val_loss did not improve from 0.39988\n",
            "Epoch 46/300\n",
            "70/70 [==============================] - 39s 551ms/step - loss: 0.3850 - acc: 0.8286 - val_loss: 0.6640 - val_acc: 0.7167\n",
            "\n",
            "Epoch 00046: val_loss did not improve from 0.39988\n",
            "Epoch 47/300\n",
            "70/70 [==============================] - 38s 547ms/step - loss: 0.3630 - acc: 0.8286 - val_loss: 0.4711 - val_acc: 0.7500\n",
            "\n",
            "Epoch 00047: val_loss did not improve from 0.39988\n",
            "Epoch 48/300\n",
            "70/70 [==============================] - 39s 550ms/step - loss: 0.3425 - acc: 0.8500 - val_loss: 0.5239 - val_acc: 0.8333\n",
            "\n",
            "Epoch 00048: val_loss did not improve from 0.39988\n",
            "Epoch 49/300\n",
            "70/70 [==============================] - 39s 558ms/step - loss: 0.3843 - acc: 0.8000 - val_loss: 0.4596 - val_acc: 0.7833\n",
            "\n",
            "Epoch 00049: val_loss did not improve from 0.39988\n",
            "Epoch 50/300\n",
            "70/70 [==============================] - 39s 561ms/step - loss: 0.3855 - acc: 0.8357 - val_loss: 0.4223 - val_acc: 0.8167\n",
            "\n",
            "Epoch 00050: val_loss did not improve from 0.39988\n",
            "Epoch 51/300\n",
            "70/70 [==============================] - 39s 560ms/step - loss: 0.3938 - acc: 0.8286 - val_loss: 0.5634 - val_acc: 0.7833\n",
            "\n",
            "Epoch 00051: val_loss did not improve from 0.39988\n",
            "Epoch 52/300\n",
            "70/70 [==============================] - 40s 561ms/step - loss: 0.2951 - acc: 0.8857 - val_loss: 0.4328 - val_acc: 0.8667\n",
            "\n",
            "Epoch 00052: val_loss did not improve from 0.39988\n",
            "Epoch 53/300\n",
            "70/70 [==============================] - 39s 560ms/step - loss: 0.3300 - acc: 0.8429 - val_loss: 0.8147 - val_acc: 0.6667\n",
            "\n",
            "Epoch 00053: val_loss did not improve from 0.39988\n",
            "Epoch 54/300\n",
            "70/70 [==============================] - 39s 561ms/step - loss: 0.2665 - acc: 0.9143 - val_loss: 0.5346 - val_acc: 0.7500\n",
            "\n",
            "Epoch 00054: val_loss did not improve from 0.39988\n",
            "Epoch 55/300\n",
            "70/70 [==============================] - 40s 568ms/step - loss: 0.3055 - acc: 0.8571 - val_loss: 0.4799 - val_acc: 0.7833\n",
            "\n",
            "Epoch 00055: val_loss did not improve from 0.39988\n",
            "Epoch 56/300\n",
            "70/70 [==============================] - 40s 565ms/step - loss: 0.3421 - acc: 0.8071 - val_loss: 0.5319 - val_acc: 0.8500\n",
            "\n",
            "Epoch 00056: val_loss did not improve from 0.39988\n",
            "Epoch 57/300\n",
            "70/70 [==============================] - 39s 554ms/step - loss: 0.3025 - acc: 0.8429 - val_loss: 0.5221 - val_acc: 0.8167\n",
            "\n",
            "Epoch 00057: val_loss did not improve from 0.39988\n",
            "Epoch 58/300\n",
            "70/70 [==============================] - 38s 544ms/step - loss: 0.3390 - acc: 0.8357 - val_loss: 0.7485 - val_acc: 0.7333\n",
            "\n",
            "Epoch 00058: val_loss did not improve from 0.39988\n",
            "Epoch 59/300\n",
            "70/70 [==============================] - 40s 562ms/step - loss: 0.3305 - acc: 0.8643 - val_loss: 0.4874 - val_acc: 0.8167\n",
            "\n",
            "Epoch 00059: val_loss did not improve from 0.39988\n",
            "Epoch 60/300\n",
            "70/70 [==============================] - 40s 564ms/step - loss: 0.2630 - acc: 0.9143 - val_loss: 0.7216 - val_acc: 0.7333\n",
            "\n",
            "Epoch 00060: val_loss did not improve from 0.39988\n",
            "Epoch 61/300\n",
            "70/70 [==============================] - 38s 547ms/step - loss: 0.2621 - acc: 0.9071 - val_loss: 0.5909 - val_acc: 0.7167\n",
            "\n",
            "Epoch 00061: val_loss did not improve from 0.39988\n",
            "Epoch 62/300\n",
            "70/70 [==============================] - 39s 552ms/step - loss: 0.2611 - acc: 0.8786 - val_loss: 1.4574 - val_acc: 0.5500\n",
            "\n",
            "Epoch 00062: val_loss did not improve from 0.39988\n",
            "Epoch 63/300\n",
            "70/70 [==============================] - 39s 549ms/step - loss: 0.2416 - acc: 0.9071 - val_loss: 0.5661 - val_acc: 0.8000\n",
            "\n",
            "Epoch 00063: val_loss did not improve from 0.39988\n",
            "Epoch 64/300\n",
            "70/70 [==============================] - 39s 559ms/step - loss: 0.2857 - acc: 0.8786 - val_loss: 0.4960 - val_acc: 0.8333\n",
            "\n",
            "Epoch 00064: val_loss did not improve from 0.39988\n",
            "Epoch 65/300\n",
            "70/70 [==============================] - 40s 565ms/step - loss: 0.2297 - acc: 0.9214 - val_loss: 0.6454 - val_acc: 0.7833\n",
            "\n",
            "Epoch 00065: val_loss did not improve from 0.39988\n",
            "Epoch 66/300\n",
            "70/70 [==============================] - 39s 558ms/step - loss: 0.1900 - acc: 0.9214 - val_loss: 0.5549 - val_acc: 0.8000\n",
            "\n",
            "Epoch 00066: val_loss did not improve from 0.39988\n",
            "Epoch 67/300\n",
            "70/70 [==============================] - 40s 563ms/step - loss: 0.2097 - acc: 0.9143 - val_loss: 1.3656 - val_acc: 0.6167\n",
            "\n",
            "Epoch 00067: val_loss did not improve from 0.39988\n",
            "Epoch 68/300\n",
            "70/70 [==============================] - 39s 561ms/step - loss: 0.3067 - acc: 0.8571 - val_loss: 0.8137 - val_acc: 0.7000\n",
            "\n",
            "Epoch 00068: val_loss did not improve from 0.39988\n",
            "Epoch 69/300\n",
            "70/70 [==============================] - 40s 562ms/step - loss: 0.1896 - acc: 0.9429 - val_loss: 0.6710 - val_acc: 0.8667\n",
            "\n",
            "Epoch 00069: val_loss did not improve from 0.39988\n",
            "Epoch 70/300\n",
            "70/70 [==============================] - 39s 557ms/step - loss: 0.2377 - acc: 0.8857 - val_loss: 0.7225 - val_acc: 0.7000\n",
            "\n",
            "Epoch 00070: val_loss did not improve from 0.39988\n",
            "Epoch 71/300\n",
            "70/70 [==============================] - 39s 556ms/step - loss: 0.2770 - acc: 0.8714 - val_loss: 0.8406 - val_acc: 0.7667\n",
            "\n",
            "Epoch 00071: val_loss did not improve from 0.39988\n",
            "Epoch 72/300\n",
            "70/70 [==============================] - 39s 559ms/step - loss: 0.2403 - acc: 0.9286 - val_loss: 0.5136 - val_acc: 0.7833\n",
            "\n",
            "Epoch 00072: val_loss did not improve from 0.39988\n",
            "Epoch 73/300\n",
            "70/70 [==============================] - 39s 556ms/step - loss: 0.1921 - acc: 0.9429 - val_loss: 0.5792 - val_acc: 0.8000\n",
            "\n",
            "Epoch 00073: val_loss did not improve from 0.39988\n",
            "Epoch 74/300\n",
            "70/70 [==============================] - 39s 554ms/step - loss: 0.2546 - acc: 0.8857 - val_loss: 0.4839 - val_acc: 0.8000\n",
            "\n",
            "Epoch 00074: val_loss did not improve from 0.39988\n",
            "Epoch 75/300\n",
            "70/70 [==============================] - 39s 554ms/step - loss: 0.2138 - acc: 0.8714 - val_loss: 0.6010 - val_acc: 0.8167\n",
            "\n",
            "Epoch 00075: val_loss did not improve from 0.39988\n",
            "Epoch 76/300\n",
            "70/70 [==============================] - 39s 553ms/step - loss: 0.2027 - acc: 0.9429 - val_loss: 1.4791 - val_acc: 0.6833\n",
            "\n",
            "Epoch 00076: val_loss did not improve from 0.39988\n",
            "Epoch 77/300\n",
            "70/70 [==============================] - 39s 556ms/step - loss: 0.1840 - acc: 0.9286 - val_loss: 0.4792 - val_acc: 0.8167\n",
            "\n",
            "Epoch 00077: val_loss did not improve from 0.39988\n",
            "Epoch 78/300\n",
            "70/70 [==============================] - 39s 551ms/step - loss: 0.1776 - acc: 0.9357 - val_loss: 0.5570 - val_acc: 0.8167\n",
            "\n",
            "Epoch 00078: val_loss did not improve from 0.39988\n",
            "Epoch 79/300\n",
            "70/70 [==============================] - 39s 549ms/step - loss: 0.1730 - acc: 0.9571 - val_loss: 0.6862 - val_acc: 0.8167\n",
            "\n",
            "Epoch 00079: val_loss did not improve from 0.39988\n",
            "Epoch 00079: early stopping\n"
          ]
        }
      ]
    },
    {
      "cell_type": "code",
      "metadata": {
        "id": "FToqbVWIDrb9"
      },
      "source": [
        ""
      ],
      "execution_count": null,
      "outputs": []
    }
  ]
}